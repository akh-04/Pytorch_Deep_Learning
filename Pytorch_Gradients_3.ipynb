{
  "nbformat": 4,
  "nbformat_minor": 0,
  "metadata": {
    "colab": {
      "provenance": [],
      "toc_visible": true,
      "authorship_tag": "ABX9TyNPN7p0zjs3D5z+bIPHCXwY",
      "include_colab_link": true
    },
    "kernelspec": {
      "name": "python3",
      "display_name": "Python 3"
    },
    "language_info": {
      "name": "python"
    }
  },
  "cells": [
    {
      "cell_type": "markdown",
      "metadata": {
        "id": "view-in-github",
        "colab_type": "text"
      },
      "source": [
        "<a href=\"https://colab.research.google.com/github/akh-04/Pytorch_Deep_Learning/blob/main/Pytorch_Gradients_3.ipynb\" target=\"_parent\"><img src=\"https://colab.research.google.com/assets/colab-badge.svg\" alt=\"Open In Colab\"/></a>"
      ]
    },
    {
      "cell_type": "code",
      "execution_count": 6,
      "metadata": {
        "id": "xnVgt0kN54qN"
      },
      "outputs": [],
      "source": [
        "import torch\n",
        "import numpy as np"
      ]
    },
    {
      "cell_type": "markdown",
      "source": [
        "## Implementing Gradient using Numpy"
      ],
      "metadata": {
        "id": "DNd2K-8V9EIo"
      }
    },
    {
      "cell_type": "code",
      "source": [
        "# f = w * x\n",
        "# f = 2 * x\n",
        "\n",
        "X = np.array([1,2,3,4], dtype = np.float32)\n",
        "Y = np.array([2,4,6,8], dtype = np.float32)\n",
        "\n",
        "w = 0\n",
        "# model prediction\n",
        "def frwd(x):\n",
        "  return w*x\n",
        "\n",
        "# Loss = MSE\n",
        "def loss(y, y_predicted):\n",
        "  return((y_predicted - y)**2).mean()\n",
        "\n",
        "# gradient\n",
        "# MSE = 1/M *(w*x-y)**2\n",
        "# dJ/dw = 1/N 2x (w*x-y)\n",
        "\n",
        "def gradient(x,y,y_predicted):\n",
        "  return np.dot(2*x, y_predicted-y).mean()\n",
        "\n",
        "\n"
      ],
      "metadata": {
        "id": "_TWfTabO5-Cr"
      },
      "execution_count": 9,
      "outputs": []
    },
    {
      "cell_type": "code",
      "source": [
        "print(f'Prediction before training: f(5) = {frwd(5):.3f}')\n",
        "\n",
        "# setup\n",
        "learning_rate = 0.01\n",
        "n_iters= 10\n",
        "\n",
        "for epoch in range(n_iters):\n",
        "  # prediction = forward pass\n",
        "  y_pred = frwd(X)\n",
        "  # loss\n",
        "  l = loss(Y, y_pred)\n",
        "\n",
        "  # gradients\n",
        "\n",
        "  dw = gradient(X,Y,y_pred)\n",
        "\n",
        "  w -= learning_rate * dw  \n",
        "\n",
        "  if epoch%1 == 0:\n",
        "    print(f'epoch{epoch+1}: w = {w:.3f}, loss = {l:.8f}')\n",
        "\n",
        "print(f'Prediction after training: f(5) = {frwd(5):.3f}') "
      ],
      "metadata": {
        "colab": {
          "base_uri": "https://localhost:8080/"
        },
        "id": "KRTQTYT37Pv0",
        "outputId": "77693a06-d501-4d34-a7b0-5b016cad2c11"
      },
      "execution_count": 10,
      "outputs": [
        {
          "output_type": "stream",
          "name": "stdout",
          "text": [
            "Prediction before training: f(5) = 0.000\n",
            "epoch1: w = 1.200, loss = 30.00000000\n",
            "epoch2: w = 1.680, loss = 4.79999924\n",
            "epoch3: w = 1.872, loss = 0.76800019\n",
            "epoch4: w = 1.949, loss = 0.12288000\n",
            "epoch5: w = 1.980, loss = 0.01966083\n",
            "epoch6: w = 1.992, loss = 0.00314574\n",
            "epoch7: w = 1.997, loss = 0.00050331\n",
            "epoch8: w = 1.999, loss = 0.00008053\n",
            "epoch9: w = 1.999, loss = 0.00001288\n",
            "epoch10: w = 2.000, loss = 0.00000206\n",
            "Prediction after training: f(5) = 9.999\n"
          ]
        }
      ]
    },
    {
      "cell_type": "markdown",
      "source": [
        "## Implementing Gradient Desc using Pytorch"
      ],
      "metadata": {
        "id": "MwXdmXOh9Jum"
      }
    },
    {
      "cell_type": "code",
      "source": [
        "\n",
        "X = torch.tensor([1,2,3,4], dtype = torch.float32)\n",
        "Y = torch.tensor([2,4,6,8], dtype = torch.float32)\n",
        "\n",
        "w = torch.tensor(0.0, dtype = torch.float32, requires_grad=True)\n",
        "# model prediction\n",
        "def frwd(x):        \n",
        "  return w*x\n",
        "\n",
        "# Loss = MSE\n",
        "def loss(y, y_predicted):\n",
        "  return((y_predicted - y)**2).mean()\n"
      ],
      "metadata": {
        "id": "RqsTcDxY8pGi"
      },
      "execution_count": 26,
      "outputs": []
    },
    {
      "cell_type": "code",
      "source": [
        "print(f'Prediction before training: f(5) = {frwd(5):.3f}')\n",
        "\n",
        "# setup\n",
        "learning_rate = 0.01\n",
        "n_iters= 100\n",
        "\n",
        "for epoch in range(n_iters):\n",
        "  # prediction = forward pass\n",
        "  y_pred = frwd(X)\n",
        "  # loss\n",
        "  l = loss(Y, y_pred)\n",
        "\n",
        "  # gradients\n",
        "  l.backward() #dl/dw\n",
        "  with torch.no_grad():\n",
        "    w -= learning_rate * w.grad \n",
        "  # Empty the gradient to avoid accumalation\n",
        "  w.grad.zero_()\n",
        "\n",
        "  if epoch%10 == 0:\n",
        "    print(f'epoch{epoch+1}: w = {w:.3f}, loss = {l:.8f}')\n",
        "\n",
        "print(f'Prediction after training: f(5) = {frwd(5):.3f}') "
      ],
      "metadata": {
        "colab": {
          "base_uri": "https://localhost:8080/"
        },
        "id": "fxmzlz189q7s",
        "outputId": "cbdb1413-6e85-47f3-a716-14887cc26af0"
      },
      "execution_count": 27,
      "outputs": [
        {
          "output_type": "stream",
          "name": "stdout",
          "text": [
            "Prediction before training: f(5) = 0.000\n",
            "epoch1: w = 0.300, loss = 30.00000000\n",
            "epoch11: w = 1.665, loss = 1.16278565\n",
            "epoch21: w = 1.934, loss = 0.04506890\n",
            "epoch31: w = 1.987, loss = 0.00174685\n",
            "epoch41: w = 1.997, loss = 0.00006770\n",
            "epoch51: w = 1.999, loss = 0.00000262\n",
            "epoch61: w = 2.000, loss = 0.00000010\n",
            "epoch71: w = 2.000, loss = 0.00000000\n",
            "epoch81: w = 2.000, loss = 0.00000000\n",
            "epoch91: w = 2.000, loss = 0.00000000\n",
            "Prediction after training: f(5) = 10.000\n"
          ]
        }
      ]
    },
    {
      "cell_type": "code",
      "source": [],
      "metadata": {
        "id": "ttw77fLeJIiH"
      },
      "execution_count": null,
      "outputs": []
    },
    {
      "cell_type": "markdown",
      "source": [
        "## Implementing NN"
      ],
      "metadata": {
        "id": "xYHUDBHoJM5R"
      }
    },
    {
      "cell_type": "code",
      "source": [
        " # 1) Design Model ( input , output size, forward pass)\n",
        " # 2) Constuct Loss and Optimizer\n",
        " # 3) Training loop\n",
        "\n",
        " # - forward pass -> Backward Pass -> Update Weights"
      ],
      "metadata": {
        "id": "73tiSZzi-JLS"
      },
      "execution_count": 28,
      "outputs": []
    },
    {
      "cell_type": "code",
      "source": [
        "import torch.nn as nn \n",
        "X = torch.tensor([[1],[2],[3],[4]], dtype = torch.float32)\n",
        "Y = torch.tensor([[2],[4],[6],[8]], dtype = torch.float32)\n",
        "\n",
        "X_test = torch.tensor([5], dtype = torch.float32)\n",
        "n_samples, n_features = X.shape\n",
        "print(n_samples, n_features)\n",
        "\n",
        "input_size = n_features\n",
        "output_size = n_features\n",
        "# w = torch.tensor(0.0, dtype = torch.float32, requires_grad=True)\n",
        "model = nn.Linear(input_size, output_size)\n",
        "class LinearRegression(nn.Module):\n",
        "  def __init__(self, input_dim, output_dim):\n",
        "    super(LinearRegression, self).__init__()\n",
        "    #Define Layers\n",
        "    self.lin = nn.Linear(input_dim, output_dim)\n",
        "\n",
        "    def forward(self,x):\n",
        "      return self.lin(x)\n",
        "# model prediction"
      ],
      "metadata": {
        "colab": {
          "base_uri": "https://localhost:8080/"
        },
        "id": "UGljJajzJQMz",
        "outputId": "0dd5503d-f0ad-453a-9e00-1440e060ab3c"
      },
      "execution_count": 39,
      "outputs": [
        {
          "output_type": "stream",
          "name": "stdout",
          "text": [
            "4 1\n"
          ]
        }
      ]
    },
    {
      "cell_type": "code",
      "source": [
        "print(f'Prediction before training: f(5) = {model(X_test).item():.3f}')\n",
        "\n",
        "# setup\n",
        "learning_rate = 0.01\n",
        "n_iters= 100\n",
        "\n",
        "loss = nn.MSELoss()\n",
        "optimizer = torch.optim.SGD(model.parameters(), lr= learning_rate)\n",
        "\n",
        "# Training Loop\n",
        "for epoch in range(n_iters):\n",
        "  # prediction = forward pass\n",
        "\n",
        "  y_pred = model(X)\n",
        "  # loss\n",
        "\n",
        "  l = loss(Y, y_pred)\n",
        "\n",
        "  # gradients\n",
        "  l.backward() #dl/dw\n",
        "\n",
        "  optimizer.step() \n",
        "  # Empty the gradient to avoid accumalation\n",
        "  optimizer.zero_grad()\n",
        "\n",
        "  if epoch%10 == 0:\n",
        "    # Unpack Parameters\n",
        "    [w,b] = model.parameters()\n",
        "    print(f'epoch{epoch+1}: w = {w[0][0].item():.3f}, loss = {l:.8f}')\n",
        "\n",
        "print(f'Prediction after training: f(5) = {model(X_test).item():.3f}') "
      ],
      "metadata": {
        "colab": {
          "base_uri": "https://localhost:8080/"
        },
        "id": "Ve78CxN6JX_Q",
        "outputId": "ddac600b-dca5-417b-8a3e-011ca8a67bc5"
      },
      "execution_count": 40,
      "outputs": [
        {
          "output_type": "stream",
          "name": "stdout",
          "text": [
            "Prediction before training: f(5) = 2.604\n",
            "epoch1: w = 0.601, loss = 14.62351131\n",
            "epoch11: w = 1.481, loss = 0.55316520\n",
            "epoch21: w = 1.632, loss = 0.17895609\n",
            "epoch31: w = 1.664, loss = 0.15969123\n",
            "epoch41: w = 1.678, loss = 0.15016744\n",
            "epoch51: w = 1.688, loss = 0.14142098\n",
            "epoch61: w = 1.697, loss = 0.13318938\n",
            "epoch71: w = 1.706, loss = 0.12543717\n",
            "epoch81: w = 1.715, loss = 0.11813603\n",
            "epoch91: w = 1.723, loss = 0.11125983\n",
            "Prediction after training: f(5) = 9.445\n"
          ]
        }
      ]
    },
    {
      "cell_type": "code",
      "source": [],
      "metadata": {
        "id": "oVE6hcK5J9rm"
      },
      "execution_count": null,
      "outputs": []
    }
  ]
}